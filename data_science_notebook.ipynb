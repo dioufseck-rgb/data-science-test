{
  "nbformat": 4,
  "nbformat_minor": 0,
  "metadata": {
    "colab": {
      "provenance": [],
      "collapsed_sections": [
        "KPVtAxRVY-3l",
        "lrrXVh-vZB18",
        "ssEKqkFpZFRN"
      ],
      "authorship_tag": "ABX9TyMDkUh6jJ5RZrjV2TwMn3LR",
      "include_colab_link": true
    },
    "kernelspec": {
      "name": "python3",
      "display_name": "Python 3"
    },
    "language_info": {
      "name": "python"
    }
  },
  "cells": [
    {
      "cell_type": "markdown",
      "metadata": {
        "id": "view-in-github",
        "colab_type": "text"
      },
      "source": [
        "<a href=\"https://colab.research.google.com/github/dioufseck-rgb/data-science-test/blob/main/data_science_notebook.ipynb\" target=\"_parent\"><img src=\"https://colab.research.google.com/assets/colab-badge.svg\" alt=\"Open In Colab\"/></a>"
      ]
    },
    {
      "cell_type": "code",
      "source": [],
      "metadata": {
        "id": "VpUC48BnYw6h"
      },
      "execution_count": null,
      "outputs": []
    },
    {
      "cell_type": "markdown",
      "source": [
        "## Ingest"
      ],
      "metadata": {
        "id": "N5iiCa1YY6YE"
      }
    },
    {
      "cell_type": "markdown",
      "source": [
        "### Load Data"
      ],
      "metadata": {
        "id": "5zbz0qy_ZUX0"
      }
    },
    {
      "cell_type": "code",
      "source": [
        "print('blablabla')"
      ],
      "metadata": {
        "colab": {
          "base_uri": "https://localhost:8080/"
        },
        "id": "EgSQRM6LY9Pk",
        "outputId": "e333a4eb-eede-46a1-cbb2-bc115bf4d29c"
      },
      "execution_count": 2,
      "outputs": [
        {
          "output_type": "stream",
          "name": "stdout",
          "text": [
            "blablabla\n"
          ]
        }
      ]
    },
    {
      "cell_type": "markdown",
      "source": [
        "##EDA"
      ],
      "metadata": {
        "id": "KPVtAxRVY-3l"
      }
    },
    {
      "cell_type": "code",
      "source": [],
      "metadata": {
        "id": "F2qZNgNAZAr1"
      },
      "execution_count": null,
      "outputs": []
    },
    {
      "cell_type": "markdown",
      "source": [
        "##Modeling"
      ],
      "metadata": {
        "id": "lrrXVh-vZB18"
      }
    },
    {
      "cell_type": "code",
      "source": [],
      "metadata": {
        "id": "N8jBh6HdZDvc"
      },
      "execution_count": null,
      "outputs": []
    },
    {
      "cell_type": "markdown",
      "source": [
        "##Conclusion"
      ],
      "metadata": {
        "id": "ssEKqkFpZFRN"
      }
    },
    {
      "cell_type": "code",
      "source": [],
      "metadata": {
        "id": "CZSDxCdjZKI1"
      },
      "execution_count": null,
      "outputs": []
    }
  ]
}